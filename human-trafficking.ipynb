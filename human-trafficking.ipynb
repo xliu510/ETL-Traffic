{
 "cells": [
  {
   "cell_type": "code",
   "execution_count": 1,
   "metadata": {},
   "outputs": [],
   "source": [
    "# Dependencies and Setup\n",
    "from IPython.display import display,HTML\n",
    "import pandas as pd\n",
    "import numpy as np\n",
    "\n",
    "from sqlalchemy import create_engine\n",
    "import pymysql\n",
    "pymysql.install_as_MySQLdb()"
   ]
  },
  {
   "cell_type": "code",
   "execution_count": 2,
   "metadata": {},
   "outputs": [],
   "source": [
    "# Read CSV\n",
    "\n",
    "#2014 UK\n",
    "referrals_adult_df_2014_uk = pd.read_csv(\"uk-human-trafficking-data/2014_referrals_adult.csv\")\n",
    "referrals_all_df_2014_uk = pd.read_csv(\"uk-human-trafficking-data/2014_referrals_all.csv\")\n",
    "referrals_minor_df_2014_uk = pd.read_csv(\"uk-human-trafficking-data/2014_referrals_minor.csv\")\n",
    "\n",
    "\n",
    "referrals_minor_df_2014_uk.rename(columns={'Country of Origin':'nationality', 'Female':'female_minor', 'Male':'male_minor','Total':'total_minor'}, inplace=True)\n",
    "referrals_minor_df_2014_uk_drop = referrals_minor_df_2014_uk.drop(['2013 - 2014 % Change'], axis=1)\n",
    "referrals_minor_df_2014_uk_drop['year'] = 2014\n",
    "\n",
    "referrals_adult_df_2014_uk.rename(columns={'Country of Origin':'nationality', 'Female':'female_adult', 'Male':'male_adult','Total':'total_adult'}, inplace=True)\n",
    "referrals_adult_df_2014_uk_drop = referrals_adult_df_2014_uk.drop(['2013 - 2014 % Change', 'Transgender'], axis=1)\n",
    "referrals_adult_df_2014_uk_drop['year'] = 2014\n",
    "\n",
    "referrals_all_df_2014_uk.rename(columns={'Country of Origin':'nationality', 'Female':'female_all', 'Male':'male_all','Total':'total_all'}, inplace=True)\n",
    "referrals_all_df_2014_uk_drop = referrals_all_df_2014_uk.drop(['2013 - 2014 % Change', 'Transgender'], axis=1)\n",
    "referrals_all_df_2014_uk_drop['year'] = 2014\n",
    "\n",
    "\n"
   ]
  },
  {
   "cell_type": "code",
   "execution_count": 3,
   "metadata": {},
   "outputs": [
    {
     "data": {
      "text/html": [
       "<div>\n",
       "<style scoped>\n",
       "    .dataframe tbody tr th:only-of-type {\n",
       "        vertical-align: middle;\n",
       "    }\n",
       "\n",
       "    .dataframe tbody tr th {\n",
       "        vertical-align: top;\n",
       "    }\n",
       "\n",
       "    .dataframe thead th {\n",
       "        text-align: right;\n",
       "    }\n",
       "</style>\n",
       "<table border=\"1\" class=\"dataframe\">\n",
       "  <thead>\n",
       "    <tr style=\"text-align: right;\">\n",
       "      <th></th>\n",
       "      <th>nationality</th>\n",
       "      <th>female_minor</th>\n",
       "      <th>male_minor</th>\n",
       "      <th>total_minor</th>\n",
       "      <th>year</th>\n",
       "    </tr>\n",
       "  </thead>\n",
       "  <tbody>\n",
       "    <tr>\n",
       "      <th>0</th>\n",
       "      <td>Albania</td>\n",
       "      <td>34</td>\n",
       "      <td>83</td>\n",
       "      <td>117</td>\n",
       "      <td>2014</td>\n",
       "    </tr>\n",
       "    <tr>\n",
       "      <th>1</th>\n",
       "      <td>Vietnam</td>\n",
       "      <td>33</td>\n",
       "      <td>76</td>\n",
       "      <td>109</td>\n",
       "      <td>2014</td>\n",
       "    </tr>\n",
       "    <tr>\n",
       "      <th>2</th>\n",
       "      <td>United Kingdom</td>\n",
       "      <td>70</td>\n",
       "      <td>5</td>\n",
       "      <td>75</td>\n",
       "      <td>2014</td>\n",
       "    </tr>\n",
       "    <tr>\n",
       "      <th>3</th>\n",
       "      <td>Slovakia</td>\n",
       "      <td>42</td>\n",
       "      <td>30</td>\n",
       "      <td>72</td>\n",
       "      <td>2014</td>\n",
       "    </tr>\n",
       "    <tr>\n",
       "      <th>4</th>\n",
       "      <td>Nigeria</td>\n",
       "      <td>38</td>\n",
       "      <td>16</td>\n",
       "      <td>54</td>\n",
       "      <td>2014</td>\n",
       "    </tr>\n",
       "  </tbody>\n",
       "</table>\n",
       "</div>"
      ],
      "text/plain": [
       "      nationality  female_minor  male_minor  total_minor  year\n",
       "0         Albania            34          83          117  2014\n",
       "1         Vietnam            33          76          109  2014\n",
       "2  United Kingdom            70           5           75  2014\n",
       "3        Slovakia            42          30           72  2014\n",
       "4         Nigeria            38          16           54  2014"
      ]
     },
     "execution_count": 3,
     "metadata": {},
     "output_type": "execute_result"
    }
   ],
   "source": [
    "referrals_minor_df_2014_uk_drop.head()"
   ]
  },
  {
   "cell_type": "code",
   "execution_count": 4,
   "metadata": {},
   "outputs": [
    {
     "data": {
      "text/html": [
       "<div>\n",
       "<style scoped>\n",
       "    .dataframe tbody tr th:only-of-type {\n",
       "        vertical-align: middle;\n",
       "    }\n",
       "\n",
       "    .dataframe tbody tr th {\n",
       "        vertical-align: top;\n",
       "    }\n",
       "\n",
       "    .dataframe thead th {\n",
       "        text-align: right;\n",
       "    }\n",
       "</style>\n",
       "<table border=\"1\" class=\"dataframe\">\n",
       "  <thead>\n",
       "    <tr style=\"text-align: right;\">\n",
       "      <th></th>\n",
       "      <th>nationality</th>\n",
       "      <th>female_adult</th>\n",
       "      <th>male_adult</th>\n",
       "      <th>total_adult</th>\n",
       "      <th>year</th>\n",
       "    </tr>\n",
       "  </thead>\n",
       "  <tbody>\n",
       "    <tr>\n",
       "      <th>0</th>\n",
       "      <td>Albania</td>\n",
       "      <td>317</td>\n",
       "      <td>15</td>\n",
       "      <td>332</td>\n",
       "      <td>2014</td>\n",
       "    </tr>\n",
       "    <tr>\n",
       "      <th>1</th>\n",
       "      <td>Nigeria</td>\n",
       "      <td>166</td>\n",
       "      <td>24</td>\n",
       "      <td>190</td>\n",
       "      <td>2014</td>\n",
       "    </tr>\n",
       "    <tr>\n",
       "      <th>2</th>\n",
       "      <td>Romania</td>\n",
       "      <td>55</td>\n",
       "      <td>79</td>\n",
       "      <td>134</td>\n",
       "      <td>2014</td>\n",
       "    </tr>\n",
       "    <tr>\n",
       "      <th>3</th>\n",
       "      <td>Vietnam</td>\n",
       "      <td>43</td>\n",
       "      <td>64</td>\n",
       "      <td>107</td>\n",
       "      <td>2014</td>\n",
       "    </tr>\n",
       "    <tr>\n",
       "      <th>4</th>\n",
       "      <td>Poland</td>\n",
       "      <td>20</td>\n",
       "      <td>58</td>\n",
       "      <td>78</td>\n",
       "      <td>2014</td>\n",
       "    </tr>\n",
       "  </tbody>\n",
       "</table>\n",
       "</div>"
      ],
      "text/plain": [
       "  nationality female_adult  male_adult total_adult  year\n",
       "0     Albania          317          15         332  2014\n",
       "1     Nigeria          166          24         190  2014\n",
       "2     Romania           55          79         134  2014\n",
       "3     Vietnam           43          64         107  2014\n",
       "4      Poland           20          58          78  2014"
      ]
     },
     "execution_count": 4,
     "metadata": {},
     "output_type": "execute_result"
    }
   ],
   "source": [
    "referrals_adult_df_2014_uk_drop.head()"
   ]
  },
  {
   "cell_type": "code",
   "execution_count": 5,
   "metadata": {},
   "outputs": [
    {
     "data": {
      "text/html": [
       "<div>\n",
       "<style scoped>\n",
       "    .dataframe tbody tr th:only-of-type {\n",
       "        vertical-align: middle;\n",
       "    }\n",
       "\n",
       "    .dataframe tbody tr th {\n",
       "        vertical-align: top;\n",
       "    }\n",
       "\n",
       "    .dataframe thead th {\n",
       "        text-align: right;\n",
       "    }\n",
       "</style>\n",
       "<table border=\"1\" class=\"dataframe\">\n",
       "  <thead>\n",
       "    <tr style=\"text-align: right;\">\n",
       "      <th></th>\n",
       "      <th>nationality</th>\n",
       "      <th>female_all</th>\n",
       "      <th>male_all</th>\n",
       "      <th>total_all</th>\n",
       "      <th>year</th>\n",
       "    </tr>\n",
       "  </thead>\n",
       "  <tbody>\n",
       "    <tr>\n",
       "      <th>0</th>\n",
       "      <td>Albania</td>\n",
       "      <td>351</td>\n",
       "      <td>98</td>\n",
       "      <td>449</td>\n",
       "      <td>2014</td>\n",
       "    </tr>\n",
       "    <tr>\n",
       "      <th>1</th>\n",
       "      <td>Nigeria</td>\n",
       "      <td>204</td>\n",
       "      <td>40</td>\n",
       "      <td>244</td>\n",
       "      <td>2014</td>\n",
       "    </tr>\n",
       "    <tr>\n",
       "      <th>2</th>\n",
       "      <td>Vietnam</td>\n",
       "      <td>76</td>\n",
       "      <td>140</td>\n",
       "      <td>216</td>\n",
       "      <td>2014</td>\n",
       "    </tr>\n",
       "    <tr>\n",
       "      <th>3</th>\n",
       "      <td>Romania</td>\n",
       "      <td>68</td>\n",
       "      <td>83</td>\n",
       "      <td>151</td>\n",
       "      <td>2014</td>\n",
       "    </tr>\n",
       "    <tr>\n",
       "      <th>4</th>\n",
       "      <td>Slovakia</td>\n",
       "      <td>69</td>\n",
       "      <td>63</td>\n",
       "      <td>132</td>\n",
       "      <td>2014</td>\n",
       "    </tr>\n",
       "  </tbody>\n",
       "</table>\n",
       "</div>"
      ],
      "text/plain": [
       "  nationality female_all  male_all total_all  year\n",
       "0     Albania        351        98       449  2014\n",
       "1     Nigeria        204        40       244  2014\n",
       "2     Vietnam         76       140       216  2014\n",
       "3     Romania         68        83       151  2014\n",
       "4    Slovakia         69        63       132  2014"
      ]
     },
     "execution_count": 5,
     "metadata": {},
     "output_type": "execute_result"
    }
   ],
   "source": [
    "referrals_all_df_2014_uk_drop.head()"
   ]
  },
  {
   "cell_type": "code",
   "execution_count": 6,
   "metadata": {},
   "outputs": [],
   "source": [
    "rds_connection_string = \"mysql://root:<password>@127.0.0.1/ETL_Traffic\"\n",
    "engine = create_engine(f'{rds_connection_string}')"
   ]
  },
  {
   "cell_type": "code",
   "execution_count": 7,
   "metadata": {},
   "outputs": [
    {
     "data": {
      "text/plain": [
       "['referrals_adult_df_2014',\n",
       " 'referrals_adult_df_2014_uk',\n",
       " 'referrals_all_df_2014',\n",
       " 'referrals_all_df_2014_uk',\n",
       " 'referrals_minor_df_2014']"
      ]
     },
     "execution_count": 7,
     "metadata": {},
     "output_type": "execute_result"
    }
   ],
   "source": [
    "engine.table_names()"
   ]
  },
  {
   "cell_type": "code",
   "execution_count": 8,
   "metadata": {},
   "outputs": [],
   "source": [
    "referrals_minor_df_2014_uk_drop.to_sql(name='referrals_minor_df_2014', con=engine, if_exists='replace', index=False)"
   ]
  },
  {
   "cell_type": "code",
   "execution_count": 9,
   "metadata": {},
   "outputs": [],
   "source": [
    "referrals_adult_df_2014_uk_drop.to_sql(name='referrals_adult_df_2014', con=engine, if_exists='replace', index=False)"
   ]
  },
  {
   "cell_type": "code",
   "execution_count": 10,
   "metadata": {},
   "outputs": [],
   "source": [
    "referrals_all_df_2014_uk_drop.to_sql(name='referrals_all_df_2014', con=engine, if_exists='replace', index=False)"
   ]
  },
  {
   "cell_type": "code",
   "execution_count": 11,
   "metadata": {},
   "outputs": [
    {
     "data": {
      "text/html": [
       "<div>\n",
       "<style scoped>\n",
       "    .dataframe tbody tr th:only-of-type {\n",
       "        vertical-align: middle;\n",
       "    }\n",
       "\n",
       "    .dataframe tbody tr th {\n",
       "        vertical-align: top;\n",
       "    }\n",
       "\n",
       "    .dataframe thead th {\n",
       "        text-align: right;\n",
       "    }\n",
       "</style>\n",
       "<table border=\"1\" class=\"dataframe\">\n",
       "  <thead>\n",
       "    <tr style=\"text-align: right;\">\n",
       "      <th></th>\n",
       "      <th>nationality</th>\n",
       "      <th>female_adult</th>\n",
       "      <th>male_adult</th>\n",
       "      <th>total_adult</th>\n",
       "      <th>year</th>\n",
       "    </tr>\n",
       "  </thead>\n",
       "  <tbody>\n",
       "    <tr>\n",
       "      <th>0</th>\n",
       "      <td>Albania</td>\n",
       "      <td>317</td>\n",
       "      <td>15</td>\n",
       "      <td>332</td>\n",
       "      <td>2014</td>\n",
       "    </tr>\n",
       "    <tr>\n",
       "      <th>1</th>\n",
       "      <td>Nigeria</td>\n",
       "      <td>166</td>\n",
       "      <td>24</td>\n",
       "      <td>190</td>\n",
       "      <td>2014</td>\n",
       "    </tr>\n",
       "    <tr>\n",
       "      <th>2</th>\n",
       "      <td>Romania</td>\n",
       "      <td>55</td>\n",
       "      <td>79</td>\n",
       "      <td>134</td>\n",
       "      <td>2014</td>\n",
       "    </tr>\n",
       "    <tr>\n",
       "      <th>3</th>\n",
       "      <td>Vietnam</td>\n",
       "      <td>43</td>\n",
       "      <td>64</td>\n",
       "      <td>107</td>\n",
       "      <td>2014</td>\n",
       "    </tr>\n",
       "    <tr>\n",
       "      <th>4</th>\n",
       "      <td>Poland</td>\n",
       "      <td>20</td>\n",
       "      <td>58</td>\n",
       "      <td>78</td>\n",
       "      <td>2014</td>\n",
       "    </tr>\n",
       "  </tbody>\n",
       "</table>\n",
       "</div>"
      ],
      "text/plain": [
       "  nationality female_adult  male_adult total_adult  year\n",
       "0     Albania          317          15         332  2014\n",
       "1     Nigeria          166          24         190  2014\n",
       "2     Romania           55          79         134  2014\n",
       "3     Vietnam           43          64         107  2014\n",
       "4      Poland           20          58          78  2014"
      ]
     },
     "execution_count": 11,
     "metadata": {},
     "output_type": "execute_result"
    }
   ],
   "source": [
    "data = pd.read_sql(\"SELECT * FROM referrals_adult_df_2014 limit 5\", engine)\n",
    "data.head()"
   ]
  },
  {
   "cell_type": "code",
   "execution_count": null,
   "metadata": {},
   "outputs": [],
   "source": []
  }
 ],
 "metadata": {
  "kernelspec": {
   "display_name": "Python 3",
   "language": "python",
   "name": "python3"
  },
  "language_info": {
   "codemirror_mode": {
    "name": "ipython",
    "version": 3
   },
   "file_extension": ".py",
   "mimetype": "text/x-python",
   "name": "python",
   "nbconvert_exporter": "python",
   "pygments_lexer": "ipython3",
   "version": "3.6.5"
  }
 },
 "nbformat": 4,
 "nbformat_minor": 2
}
