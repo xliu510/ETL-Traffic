{
 "cells": [
  {
   "cell_type": "markdown",
   "metadata": {},
   "source": [
    "### Importing Dependencies"
   ]
  },
  {
   "cell_type": "code",
   "execution_count": 2,
   "metadata": {},
   "outputs": [],
   "source": [
    "# Dependencies and Setup\n",
    "from IPython.display import display,HTML\n",
    "import pandas as pd\n",
    "import numpy as np\n",
    "\n",
    "from sqlalchemy import create_engine\n",
    "import pymysql\n",
    "pymysql.install_as_MySQLdb()"
   ]
  },
  {
   "cell_type": "markdown",
   "metadata": {},
   "source": [
    "### Reading and Cleaning Data for UK 2014"
   ]
  },
  {
   "cell_type": "code",
   "execution_count": 2,
   "metadata": {},
   "outputs": [],
   "source": [
    "# 2014 UK\n",
    "referrals_adult_df_2014_uk = pd.read_csv(\"uk-human-trafficking-data/2014_referrals_adult.csv\")\n",
    "referrals_all_df_2014_uk = pd.read_csv(\"uk-human-trafficking-data/2014_referrals_all.csv\")\n",
    "referrals_minor_df_2014_uk = pd.read_csv(\"uk-human-trafficking-data/2014_referrals_minor.csv\")\n",
    "\n",
    "referrals_minor_df_2014_uk.rename(columns={'Country of Origin':'nationality', 'Female':'female_minor', 'Male':'male_minor','Total':'total_minor'}, inplace=True)\n",
    "referrals_minor_df_2014_uk_drop = referrals_minor_df_2014_uk.drop(['2013 - 2014 % Change'], axis=1)\n",
    "referrals_minor_df_2014_uk_drop['year'] = 2014\n",
    "\n",
    "referrals_adult_df_2014_uk.rename(columns={'Country of Origin':'nationality', 'Female':'female_adult', 'Male':'male_adult','Total':'total_adult'}, inplace=True)\n",
    "referrals_adult_df_2014_uk_drop = referrals_adult_df_2014_uk.drop(['2013 - 2014 % Change', 'Transgender'], axis=1)\n",
    "referrals_adult_df_2014_uk_drop['year'] = 2014\n",
    "\n",
    "referrals_all_df_2014_uk.rename(columns={'Country of Origin':'nationality', 'Female':'female_all', 'Male':'male_all','Total':'total_all'}, inplace=True)\n",
    "referrals_all_df_2014_uk_drop = referrals_all_df_2014_uk.drop(['2013 - 2014 % Change', 'Transgender'], axis=1)\n",
    "referrals_all_df_2014_uk_drop['year'] = 2014"
   ]
  },
  {
   "cell_type": "markdown",
   "metadata": {},
   "source": [
    "### Reading and Cleaning Data for UK 2015"
   ]
  },
  {
   "cell_type": "code",
   "execution_count": 3,
   "metadata": {},
   "outputs": [],
   "source": [
    "# UK 2015\n",
    "# Importing csv's\n",
    "referrals_minor_df_2015_uk = pd.read_csv(\"uk-human-trafficking-data/2015_referrals_minor.csv\")\n",
    "referrals_adult_df_2015_uk = pd.read_csv(\"uk-human-trafficking-data/2015_referrals_adult.csv\")\n",
    "referrals_all_df_2015_uk = pd.read_csv(\"uk-human-trafficking-data/2015_referrals_all.csv\")\n",
    "\n",
    "# Renaming minor columns\n",
    "referrals_minor_df_2015_uk.rename(columns={'Nationality/ Country of Origin':'Nationality', '2015 Total':'2015 Minor Total'}, inplace=True)\n",
    "# Dropping unnecessary column or rows\n",
    "referrals_minor_df_2015_uk.drop(['2014-2015 % Change'], axis=1, inplace=True)\n",
    "referrals_minor_df_2015_uk.drop(referrals_minor_df_2015_uk.tail(1).index, axis=0, inplace=True)\n",
    "# Adding column\n",
    "referrals_minor_df_2015_uk.insert(0, 'Year', 2015)\n",
    "# Sorting column and reseting index\n",
    "referrals_minor_df_2015_uk.sort_values('Nationality', ascending=True, inplace=True)\n",
    "referrals_minor_df_2015_uk.reset_index(drop=True, inplace=True)\n",
    "\n",
    "# Renaming adult columns\n",
    "referrals_adult_df_2015_uk.rename(columns={'Nationality/ Country of Origin':'Nationality', '2015 Total':'2015 Adult Total'}, inplace=True)\n",
    "# Dropping unnecessary column or rows\n",
    "referrals_adult_df_2015_uk.drop(['2014-2015 % Change'], axis=1, inplace=True)\n",
    "referrals_adult_df_2015_uk.drop(referrals_adult_df_2015_uk.tail(1).index, axis=0, inplace=True)\n",
    "# Adding column\n",
    "referrals_adult_df_2015_uk.insert(0, 'Year', 2015)\n",
    "# Sorting column and reseting index\n",
    "referrals_adult_df_2015_uk.sort_values('Nationality', ascending=True, inplace=True)\n",
    "referrals_adult_df_2015_uk.reset_index(drop=True, inplace=True)\n",
    "\n",
    "# Renaming all columns\n",
    "referrals_all_df_2015_uk.rename(columns={'Nationality/ Country of Origin':'Nationality'}, inplace=True)\n",
    "# Dropping unnecessary column or rows\n",
    "referrals_all_df_2015_uk.drop(['2014-2015 % Change'], axis=1, inplace=True)\n",
    "referrals_all_df_2015_uk.drop(referrals_all_df_2015_uk.tail(1).index, axis=0, inplace=True)\n",
    "# Adding column\n",
    "referrals_all_df_2015_uk.insert(0, 'Year', 2015)\n",
    "# Sorting column and reseting index\n",
    "referrals_all_df_2015_uk.sort_values('Nationality', ascending=True, inplace=True)\n",
    "referrals_all_df_2015_uk.reset_index(drop=True, inplace=True)"
   ]
  },
  {
   "cell_type": "code",
   "execution_count": 4,
   "metadata": {},
   "outputs": [],
   "source": [
    "# Merging 2015_uk_minor with 2015_uk_adult\n",
    "referrals_df_2015_uk = referrals_minor_df_2015_uk.merge(referrals_adult_df_2015_uk, on='Nationality', how='outer')\n",
    "# Renaming column header\n",
    "referrals_df_2015_uk.rename(columns={'Year_x':'Year', 'Domestic Servitude_x':'Domestic Servitude Minor',\n",
    "                                    'Labour Exploitation_x':'Labour Exploitation Minor', 'Organ Harvesting_x': 'Organ Harvesting Minor',\n",
    "                                    'Sexual Exploitation_x':'Sexual Exploitation Minor', 'Unknown Exploitation_x': 'Unknown Exploitation Minor',\n",
    "                                    'Domestic Servitude_y':'Domestic Servitude Adult', 'Labour Exploitation_y':'Labour Exploitation Adult',\n",
    "                                    'Organ Harvesting_y': 'Organ Harvesting Adult', 'Sexual Exploitation_y':'Sexual Exploitation Adult',\n",
    "                                    'Unknown Exploitation_y': 'Unknown Exploitation Adult'}, inplace=True)\n",
    "# Dropping duplicated year column\n",
    "referrals_df_2015_uk.drop('Year_y', axis=1, inplace=True)\n",
    "# Replacing all NaN values with 0\n",
    "referrals_df_2015_uk = referrals_df_2015_uk.fillna(0)\n",
    "# Changing all values in year column to 2015\n",
    "referrals_df_2015_uk['Year'] = 2015"
   ]
  },
  {
   "cell_type": "markdown",
   "metadata": {},
   "source": [
    "### Reading and Cleaning Data for UK 2016"
   ]
  },
  {
   "cell_type": "code",
   "execution_count": 5,
   "metadata": {},
   "outputs": [],
   "source": [
    "# UK 2016\n",
    "# Importing csv's\n",
    "referrals_minor_df_2016_uk = pd.read_csv(\"uk-human-trafficking-data/2016_referrals_minor.csv\")\n",
    "referrals_adult_df_2016_uk = pd.read_csv(\"uk-human-trafficking-data/2016_referrals_adult.csv\")\n",
    "referrals_all_df_2016_uk = pd.read_csv(\"uk-human-trafficking-data/2016_referrals_all.csv\")\n",
    "\n",
    "# Renaming minor columns\n",
    "referrals_minor_df_2016_uk.rename(columns={'Nationality/ Country of Origin':'Nationality', '2016 Total':'2016 Minor Total'}, inplace=True)\n",
    "# Dropping unnecessary column or rows\n",
    "referrals_minor_df_2016_uk.drop(['2015-2016 % Change'], axis=1, inplace=True)\n",
    "referrals_minor_df_2016_uk.drop(referrals_minor_df_2016_uk.tail(1).index, axis=0, inplace=True)\n",
    "# Adding column\n",
    "referrals_minor_df_2016_uk.insert(0, 'Year', 2016)\n",
    "# Sorting column and reseting index\n",
    "referrals_minor_df_2016_uk.sort_values('Nationality', ascending=True, inplace=True)\n",
    "referrals_minor_df_2016_uk.reset_index(drop=True, inplace=True)\n",
    "\n",
    "# Renaming adult columns\n",
    "referrals_adult_df_2016_uk.rename(columns={'Nationality/ Country of Origin':'Nationality', '2016 Total':'2016 Adult Total'}, inplace=True)\n",
    "# Dropping unnecessary column or rows\n",
    "referrals_adult_df_2016_uk.drop(['2015-2016 % Change'], axis=1, inplace=True)\n",
    "referrals_adult_df_2016_uk.drop(referrals_adult_df_2016_uk.tail(1).index, axis=0, inplace=True)\n",
    "# Adding column\n",
    "referrals_adult_df_2016_uk.insert(0, 'Year', 2016)\n",
    "# Sorting column and reseting index\n",
    "referrals_adult_df_2016_uk.sort_values('Nationality', ascending=True, inplace=True)\n",
    "referrals_adult_df_2016_uk.reset_index(drop=True, inplace=True)\n",
    "\n",
    "# Renaming all columns\n",
    "referrals_all_df_2016_uk.rename(columns={'Nationality/ Country of Origin':'Nationality'}, inplace=True)\n",
    "# Dropping unnecessary column or rows\n",
    "referrals_all_df_2016_uk.drop(['2015-2016 % Change'], axis=1, inplace=True)\n",
    "referrals_all_df_2016_uk.drop(referrals_all_df_2016_uk.tail(1).index, axis=0, inplace=True)\n",
    "# Adding column\n",
    "referrals_all_df_2016_uk.insert(0, 'Year', 2016)\n",
    "# Sorting column and reseting index\n",
    "referrals_all_df_2016_uk.sort_values('Nationality', ascending=True, inplace=True)\n",
    "referrals_all_df_2016_uk.reset_index(drop=True, inplace=True)"
   ]
  },
  {
   "cell_type": "code",
   "execution_count": 6,
   "metadata": {},
   "outputs": [],
   "source": [
    "# Merging 2016_uk_minor dataframe with 2016_uk_adult dataframe\n",
    "referrals_df_2016_uk = referrals_minor_df_2016_uk.merge(referrals_adult_df_2016_uk, on='Nationality', how='outer')\n",
    "# Renaming column header\n",
    "referrals_df_2016_uk.rename(columns={'Year_x':'Year', 'Domestic Servitude_x':'Domestic Servitude Minor',\n",
    "                                    'Labour Exploitation_x':'Labour Exploitation Minor', 'Organ Harvesting_x': 'Organ Harvesting Minor',\n",
    "                                    'Sexual Exploitation_x':'Sexual Exploitation Minor', 'Unknown Exploitation_x': 'Unknown Exploitation Minor',\n",
    "                                    'Domestic Servitude_y':'Domestic Servitude Adult', 'Labour Exploitation_y':'Labour Exploitation Adult',\n",
    "                                    'Organ Harvesting_y': 'Organ Harvesting Adult', 'Sexual Exploitation_y':'Sexual Exploitation Adult',\n",
    "                                    'Unknown Exploitation_y': 'Unknown Exploitation Adult'}, inplace=True)\n",
    "# Dropping duplicated year column\n",
    "referrals_df_2016_uk.drop('Year_y', axis=1, inplace=True)\n",
    "# Replacing all NaN values with 0\n",
    "referrals_df_2016_uk = referrals_df_2016_uk.fillna(0)\n",
    "# Changing all values in year column to 2016\n",
    "referrals_df_2016_uk['Year'] = 2016"
   ]
  },
  {
   "cell_type": "markdown",
   "metadata": {},
   "source": [
    "### Establishing a connection to MySQL"
   ]
  },
  {
   "cell_type": "code",
   "execution_count": 3,
   "metadata": {},
   "outputs": [],
   "source": [
    "# Creating a connection to MySQL\n",
    "engine = create_engine('mysql+pymysql://root:<password>@localhost:3306/ETL_Traffic_UK')"
   ]
  },
  {
   "cell_type": "markdown",
   "metadata": {},
   "source": [
    "### Updating MySQL Tables using Python"
   ]
  },
  {
   "cell_type": "code",
   "execution_count": 8,
   "metadata": {},
   "outputs": [],
   "source": [
    "# 2014 UK\n",
    "referrals_minor_df_2014_uk_drop.to_sql(name='referrals_minor_df_2014', con=engine, if_exists='replace', index=False)\n",
    "referrals_adult_df_2014_uk_drop.to_sql(name='referrals_adult_df_2014', con=engine, if_exists='replace', index=False)\n",
    "referrals_all_df_2014_uk_drop.to_sql(name='referrals_all_df_2014', con=engine, if_exists='replace', index=False)"
   ]
  },
  {
   "cell_type": "code",
   "execution_count": 9,
   "metadata": {},
   "outputs": [],
   "source": [
    "# 2015 UK\n",
    "referrals_df_2015_uk.to_sql(name='trafficking_uk_2015', con=engine, if_exists='replace', index=True)\n",
    "referrals_minor_df_2015_uk.to_sql(name='minor_trafficking_uk_2015', con=engine, if_exists='replace', index=True)\n",
    "referrals_adult_df_2015_uk.to_sql(name='adult_trafficking_uk_2015', con=engine, if_exists='replace', index=True)\n",
    "referrals_all_df_2015_uk.to_sql(name='all_trafficking_uk_2015', con=engine, if_exists='replace', index=True)"
   ]
  },
  {
   "cell_type": "code",
   "execution_count": 10,
   "metadata": {},
   "outputs": [],
   "source": [
    "# 2016 UK\n",
    "referrals_df_2016_uk.to_sql(name='trafficking_uk_2016', con=engine, if_exists='replace', index=True)\n",
    "referrals_minor_df_2016_uk.to_sql(name='minor_trafficking_uk_2016', con=engine, if_exists='replace', index=True)\n",
    "referrals_adult_df_2016_uk.to_sql(name='adult_trafficking_uk_2016', con=engine, if_exists='replace', index=True)\n",
    "referrals_all_df_2016_uk.to_sql(name='all_trafficking_uk_2016', con=engine, if_exists='replace', index=True)"
   ]
  },
  {
   "cell_type": "code",
   "execution_count": null,
   "metadata": {},
   "outputs": [],
   "source": []
  }
 ],
 "metadata": {
  "kernelspec": {
   "display_name": "Python 3",
   "language": "python",
   "name": "python3"
  },
  "language_info": {
   "codemirror_mode": {
    "name": "ipython",
    "version": 3
   },
   "file_extension": ".py",
   "mimetype": "text/x-python",
   "name": "python",
   "nbconvert_exporter": "python",
   "pygments_lexer": "ipython3",
   "version": "3.6.5"
  }
 },
 "nbformat": 4,
 "nbformat_minor": 2
}
